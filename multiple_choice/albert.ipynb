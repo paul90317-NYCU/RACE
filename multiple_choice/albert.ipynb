{
 "cells": [
  {
   "cell_type": "code",
   "execution_count": 2,
   "metadata": {},
   "outputs": [],
   "source": [
    "import torch\n",
    "torch.cuda.synchronize()\n",
    "torch.cuda.empty_cache()"
   ]
  },
  {
   "cell_type": "markdown",
   "metadata": {},
   "source": [
    "https://huggingface.co/docs/transformers/main/model_doc/albert#transformers.AlbertForMultipleChoice"
   ]
  },
  {
   "cell_type": "code",
   "execution_count": 3,
   "metadata": {},
   "outputs": [
    {
     "name": "stderr",
     "output_type": "stream",
     "text": [
      "/home/aaslab4080/anaconda3/envs/xinbao_llm_final/lib/python3.12/site-packages/tqdm/auto.py:21: TqdmWarning: IProgress not found. Please update jupyter and ipywidgets. See https://ipywidgets.readthedocs.io/en/stable/user_install.html\n",
      "  from .autonotebook import tqdm as notebook_tqdm\n",
      "Some weights of AlbertForMultipleChoice were not initialized from the model checkpoint at albert/albert-base-v2 and are newly initialized: ['classifier.bias', 'classifier.weight']\n",
      "You should probably TRAIN this model on a down-stream task to be able to use it for predictions and inference.\n"
     ]
    },
    {
     "name": "stdout",
     "output_type": "stream",
     "text": [
      "input_ids torch.Size([2, 35])\n",
      "token_type_ids torch.Size([2, 35])\n",
      "attention_mask torch.Size([2, 35])\n",
      "loss torch.Size([])\n",
      "logits torch.Size([1, 2])\n"
     ]
    }
   ],
   "source": [
    "from transformers import AutoTokenizer, AlbertForMultipleChoice\n",
    "import torch\n",
    "\n",
    "tokenizer = AutoTokenizer.from_pretrained(\"albert/albert-base-v2\")\n",
    "model = AlbertForMultipleChoice.from_pretrained(\"albert/albert-base-v2\")\n",
    "\n",
    "prompt = \"In Italy, pizza served in formal settings, such as at a restaurant, is presented unsliced.\"\n",
    "choice0 = \"It is eaten with a fork and a knife.\"\n",
    "choice1 = \"It is eaten while held in the hand.\"\n",
    "labels = torch.tensor(0).unsqueeze(0)  # choice0 is correct (according to Wikipedia ;)), batch size 1\n",
    "\n",
    "encoding = tokenizer([prompt, prompt], [choice0, choice1], return_tensors=\"pt\", padding=True)\n",
    "outputs = model(**{k: v.unsqueeze(0) for k, v in encoding.items()}, labels=labels)  # batch size is 1\n",
    "\n",
    "for k, t in encoding.items():\n",
    "    print(k, t.shape)\n",
    "\n",
    "for k, t in outputs.items():\n",
    "    print(k, t.shape)\n"
   ]
  },
  {
   "cell_type": "code",
   "execution_count": 4,
   "metadata": {},
   "outputs": [
    {
     "data": {
      "text/plain": [
       "AlbertForMultipleChoice(\n",
       "  (albert): AlbertModel(\n",
       "    (embeddings): AlbertEmbeddings(\n",
       "      (word_embeddings): Embedding(30000, 128, padding_idx=0)\n",
       "      (position_embeddings): Embedding(512, 128)\n",
       "      (token_type_embeddings): Embedding(2, 128)\n",
       "      (LayerNorm): LayerNorm((128,), eps=1e-12, elementwise_affine=True)\n",
       "      (dropout): Dropout(p=0, inplace=False)\n",
       "    )\n",
       "    (encoder): AlbertTransformer(\n",
       "      (embedding_hidden_mapping_in): Linear(in_features=128, out_features=768, bias=True)\n",
       "      (albert_layer_groups): ModuleList(\n",
       "        (0): AlbertLayerGroup(\n",
       "          (albert_layers): ModuleList(\n",
       "            (0): AlbertLayer(\n",
       "              (full_layer_layer_norm): LayerNorm((768,), eps=1e-12, elementwise_affine=True)\n",
       "              (attention): AlbertSdpaAttention(\n",
       "                (query): Linear(in_features=768, out_features=768, bias=True)\n",
       "                (key): Linear(in_features=768, out_features=768, bias=True)\n",
       "                (value): Linear(in_features=768, out_features=768, bias=True)\n",
       "                (attention_dropout): Dropout(p=0, inplace=False)\n",
       "                (output_dropout): Dropout(p=0, inplace=False)\n",
       "                (dense): Linear(in_features=768, out_features=768, bias=True)\n",
       "                (LayerNorm): LayerNorm((768,), eps=1e-12, elementwise_affine=True)\n",
       "              )\n",
       "              (ffn): Linear(in_features=768, out_features=3072, bias=True)\n",
       "              (ffn_output): Linear(in_features=3072, out_features=768, bias=True)\n",
       "              (activation): NewGELUActivation()\n",
       "              (dropout): Dropout(p=0, inplace=False)\n",
       "            )\n",
       "          )\n",
       "        )\n",
       "      )\n",
       "    )\n",
       "    (pooler): Linear(in_features=768, out_features=768, bias=True)\n",
       "    (pooler_activation): Tanh()\n",
       "  )\n",
       "  (dropout): Dropout(p=0.1, inplace=False)\n",
       "  (classifier): Linear(in_features=768, out_features=1, bias=True)\n",
       ")"
      ]
     },
     "execution_count": 4,
     "metadata": {},
     "output_type": "execute_result"
    }
   ],
   "source": [
    "model.to(device = 'cuda')"
   ]
  },
  {
   "cell_type": "markdown",
   "metadata": {},
   "source": [
    "## Data Prepare"
   ]
  },
  {
   "cell_type": "code",
   "execution_count": 5,
   "metadata": {},
   "outputs": [
    {
     "name": "stdout",
     "output_type": "stream",
     "text": [
      "DatasetDict({\n",
      "    test: Dataset({\n",
      "        features: ['example_id', 'article', 'answer', 'question', 'options'],\n",
      "        num_rows: 1436\n",
      "    })\n",
      "    train: Dataset({\n",
      "        features: ['example_id', 'article', 'answer', 'question', 'options'],\n",
      "        num_rows: 25421\n",
      "    })\n",
      "    validation: Dataset({\n",
      "        features: ['example_id', 'article', 'answer', 'question', 'options'],\n",
      "        num_rows: 1436\n",
      "    })\n",
      "})\n"
     ]
    }
   ],
   "source": [
    "# 1. Read and Parse Data\n",
    "import torch\n",
    "from datasets import load_dataset\n",
    "from torch.utils.data import Dataset, DataLoader\n",
    "\n",
    "dataset = load_dataset(\"ehovy/race\", \"middle\")\n",
    "\n",
    "print(dataset)\n",
    "\n",
    "class CustomDataset(Dataset):\n",
    "    def __init__(self, data):\n",
    "        self.data = data\n",
    "    \n",
    "    def __len__(self):\n",
    "        return len(self.data)\n",
    "    \n",
    "    def __getitem__(self, i):\n",
    "        example = self.data[i]\n",
    "        prompt = f'{example['article']}'\n",
    "        options = [f'{example['question']}\\n\\n{option}' for option in example['options']]\n",
    "        label = ord(example['answer']) - ord('A')\n",
    "        encoding = tokenizer([prompt] * len(options), options, return_tensors=\"pt\", padding=True, truncation = 'only_first', max_length=512)\n",
    "        encoding['labels'] = label\n",
    "        return encoding\n",
    "\n",
    "dataset = {\n",
    "    'test': CustomDataset(dataset['test']),\n",
    "    'train': CustomDataset(dataset['train']),\n",
    "    'validation': CustomDataset(dataset['validation'])\n",
    "}\n"
   ]
  },
  {
   "cell_type": "code",
   "execution_count": 6,
   "metadata": {},
   "outputs": [
    {
     "name": "stdout",
     "output_type": "stream",
     "text": [
      "input_ids torch.Size([2, 4, 243])\n",
      "token_type_ids torch.Size([2, 4, 243])\n",
      "attention_mask torch.Size([2, 4, 243])\n",
      "labels torch.Size([2])\n"
     ]
    }
   ],
   "source": [
    "# 5. Create DataLoader\n",
    "from torch.nn.utils.rnn import pad_sequence\n",
    "from collections import defaultdict\n",
    "\n",
    "def _pad_sequence(tensors: list[torch.Tensor]):\n",
    "    tensors = [\n",
    "        t.transpose(0, 1)\n",
    "        for t in tensors\n",
    "    ]\n",
    "    batch = pad_sequence(tensors, batch_first=True, padding_value=0)\n",
    "    return batch.transpose(1, 2).contiguous()\n",
    "\n",
    "def collect_fn(batch):\n",
    "    ret = defaultdict(list)\n",
    "    labels = []\n",
    "    for encoding in batch:\n",
    "        for k in encoding.keys():\n",
    "            if k == 'labels':\n",
    "                labels.append(encoding[k])\n",
    "            else:\n",
    "                ret[k].append(encoding[k])\n",
    "        \n",
    "\n",
    "    ret = {k: _pad_sequence(tensors) for k, tensors in ret.items()}\n",
    "    ret['labels'] = torch.tensor(labels, dtype=torch.uint8)\n",
    "    \n",
    "    return ret\n",
    "    \n",
    "test_dataloader = DataLoader(dataset['test'], batch_size=2, collate_fn=collect_fn, shuffle=True)\n",
    "\n",
    "for example in test_dataloader:\n",
    "    for k, tensor in example.items():\n",
    "        print(k, tensor.shape)\n",
    "    break"
   ]
  },
  {
   "cell_type": "markdown",
   "metadata": {},
   "source": [
    "## Test"
   ]
  },
  {
   "cell_type": "code",
   "execution_count": 7,
   "metadata": {},
   "outputs": [
    {
     "name": "stdout",
     "output_type": "stream",
     "text": [
      "0.24094707520891365\n"
     ]
    }
   ],
   "source": [
    "def test(model):\n",
    "    acc_count = 0\n",
    "    total_count = 0\n",
    "    with torch.no_grad():\n",
    "        model.eval()\n",
    "        for batch in test_dataloader:\n",
    "            batch = {k:t.to(device='cuda')for k,t in batch.items()}\n",
    "            outputs = model(**batch)\n",
    "            _, preds = outputs.logits.max(dim = 1)\n",
    "            labels = batch['labels']\n",
    "            acc_count += (labels == preds).sum().item()\n",
    "            total_count += labels.shape[0]\n",
    "\n",
    "    print(acc_count / total_count)\n",
    "\n",
    "test(model)"
   ]
  },
  {
   "cell_type": "markdown",
   "metadata": {},
   "source": [
    "## Train"
   ]
  },
  {
   "cell_type": "code",
   "execution_count": 8,
   "metadata": {},
   "outputs": [
    {
     "data": {
      "text/html": [
       "\n",
       "    <div>\n",
       "      \n",
       "      <progress value='12711' max='12711' style='width:300px; height:20px; vertical-align: middle;'></progress>\n",
       "      [12711/12711 19:39, Epoch 1/1]\n",
       "    </div>\n",
       "    <table border=\"1\" class=\"dataframe\">\n",
       "  <thead>\n",
       " <tr style=\"text-align: left;\">\n",
       "      <th>Step</th>\n",
       "      <th>Training Loss</th>\n",
       "      <th>Validation Loss</th>\n",
       "    </tr>\n",
       "  </thead>\n",
       "  <tbody>\n",
       "    <tr>\n",
       "      <td>2000</td>\n",
       "      <td>1.389500</td>\n",
       "      <td>1.386295</td>\n",
       "    </tr>\n",
       "    <tr>\n",
       "      <td>4000</td>\n",
       "      <td>1.386300</td>\n",
       "      <td>1.386294</td>\n",
       "    </tr>\n",
       "    <tr>\n",
       "      <td>6000</td>\n",
       "      <td>1.388000</td>\n",
       "      <td>1.386294</td>\n",
       "    </tr>\n",
       "    <tr>\n",
       "      <td>8000</td>\n",
       "      <td>1.387500</td>\n",
       "      <td>1.386294</td>\n",
       "    </tr>\n",
       "    <tr>\n",
       "      <td>10000</td>\n",
       "      <td>1.390000</td>\n",
       "      <td>1.386294</td>\n",
       "    </tr>\n",
       "    <tr>\n",
       "      <td>12000</td>\n",
       "      <td>1.387600</td>\n",
       "      <td>1.386294</td>\n",
       "    </tr>\n",
       "  </tbody>\n",
       "</table><p>"
      ],
      "text/plain": [
       "<IPython.core.display.HTML object>"
      ]
     },
     "metadata": {},
     "output_type": "display_data"
    },
    {
     "data": {
      "text/plain": [
       "TrainOutput(global_step=12711, training_loss=1.3884767651342218, metrics={'train_runtime': 1179.9444, 'train_samples_per_second': 21.544, 'train_steps_per_second': 10.773, 'total_flos': 1498065346657488.0, 'train_loss': 1.3884767651342218, 'epoch': 1.0})"
      ]
     },
     "execution_count": 8,
     "metadata": {},
     "output_type": "execute_result"
    }
   ],
   "source": [
    "from transformers import TrainingArguments, Trainer\n",
    "\n",
    "# 訓練參數\n",
    "training_args = TrainingArguments(\n",
    "    output_dir=\"./results\",\n",
    "    logging_steps=1000,\n",
    "    eval_steps=2000,\n",
    "    eval_strategy='steps',\n",
    "    per_device_train_batch_size=2,\n",
    "    per_device_eval_batch_size=2,\n",
    "    num_train_epochs=1,\n",
    "    learning_rate=2e-5,\n",
    "    weight_decay=0.01,\n",
    "    logging_dir=\"./logs\",\n",
    ")\n",
    "\n",
    "trainer = Trainer(\n",
    "    data_collator=collect_fn,\n",
    "    model=model,\n",
    "    args=training_args,\n",
    "    train_dataset=dataset['train'],\n",
    "    eval_dataset=dataset['validation']\n",
    ")\n",
    "\n",
    "# 開始訓練\n",
    "trainer.train()"
   ]
  },
  {
   "cell_type": "code",
   "execution_count": 9,
   "metadata": {},
   "outputs": [
    {
     "name": "stdout",
     "output_type": "stream",
     "text": [
      "0.2576601671309192\n"
     ]
    }
   ],
   "source": [
    "test(model)"
   ]
  },
  {
   "cell_type": "markdown",
   "metadata": {},
   "source": [
    "8640MiB"
   ]
  }
 ],
 "metadata": {
  "kernelspec": {
   "display_name": "Python 3 (ipykernel)",
   "language": "python",
   "name": "python3"
  },
  "language_info": {
   "codemirror_mode": {
    "name": "ipython",
    "version": 3
   },
   "file_extension": ".py",
   "mimetype": "text/x-python",
   "name": "python",
   "nbconvert_exporter": "python",
   "pygments_lexer": "ipython3",
   "version": "3.12.7"
  }
 },
 "nbformat": 4,
 "nbformat_minor": 2
}
