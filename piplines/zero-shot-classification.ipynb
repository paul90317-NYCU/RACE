{
 "cells": [
  {
   "cell_type": "code",
   "execution_count": 2,
   "metadata": {},
   "outputs": [
    {
     "name": "stdout",
     "output_type": "stream",
     "text": [
      "{'sequence': 'which one is red?', 'labels': ['apple', 'banana'], 'scores': [0.6368457674980164, 0.36315417289733887]}\n",
      "apple\n"
     ]
    }
   ],
   "source": [
    "from transformers import pipeline\n",
    "import numpy as np\n",
    "\n",
    "# 初始化 Zero-Shot Classification pipeline\n",
    "classifier = pipeline(\"zero-shot-classification\", model=\"facebook/bart-large-mnli\", device='cuda')\n",
    "\n",
    "# 輸入文本\n",
    "text = \"which one is red?\"\n",
    "\n",
    "# 候選標籤\n",
    "candidate_labels = [\"apple\", \"banana\"]\n",
    "\n",
    "# 進行分類\n",
    "result = classifier(text, candidate_labels)\n",
    "\n",
    "print(result)\n",
    "\n",
    "print(result['labels'][np.argmax(result['scores'])])"
   ]
  },
  {
   "cell_type": "markdown",
   "metadata": {},
   "source": [
    "## Data Prepare"
   ]
  },
  {
   "cell_type": "code",
   "execution_count": 28,
   "metadata": {},
   "outputs": [
    {
     "name": "stdout",
     "output_type": "stream",
     "text": [
      "DatasetDict({\n",
      "    test: Dataset({\n",
      "        features: ['example_id', 'article', 'answer', 'question', 'options'],\n",
      "        num_rows: 1436\n",
      "    })\n",
      "    train: Dataset({\n",
      "        features: ['example_id', 'article', 'answer', 'question', 'options'],\n",
      "        num_rows: 25421\n",
      "    })\n",
      "    validation: Dataset({\n",
      "        features: ['example_id', 'article', 'answer', 'question', 'options'],\n",
      "        num_rows: 1436\n",
      "    })\n",
      "})\n",
      "('It is well-known that the \"prom\", a formal dance held at the end of high school or college, is an important date in every student\\'s life. What is less well-known is that the word \"prom\" comes from the verb \"to promenade\", which means to walk around, beautifully dressed, in order to attract attention. The idea is that you should see and be seen by others.\\nThe prom is not just an American tradition, though most people believe that it started in America. In Canada the event is called a \"formal\". In Britain and Australia the old fashioned word \"dance\" is more and more frequently being referred to as a \"prom\". Most countries have some form of celebration when students finish high school: after all, it means the end of life as a child, and the beginning of life as an adult.\\nThe prom is expensive to organize and the tickets can cost students a lot of money. The tradition is that students themselves have to raise the money to pay for it. Selling the students newspapers is one way to raise money; so is taking a part-time job at the weekend.\\nAlthough the prom should be the experience of a lifetime, it also worries many students. There is the problem of what to wear, who to take as your partner, who will be voted \"prom queen\", etc. And it is not only students who feel worried. What many parents find difficult is the realization that their children\\'s school days are almost over. However, for most people at the prom, once the music starts playing, everyone relaxes and stops worrying.', ['In which country is the prom called a \"formal\"?\\n\\nAmerica.', 'In which country is the prom called a \"formal\"?\\n\\nCanada.', 'In which country is the prom called a \"formal\"?\\n\\nBritain.', 'In which country is the prom called a \"formal\"?\\n\\nAustralia.'], 'In which country is the prom called a \"formal\"?\\n\\nCanada.')\n"
     ]
    }
   ],
   "source": [
    "# 1. Read and Parse Data\n",
    "import torch\n",
    "from datasets import load_dataset\n",
    "\n",
    "dataset = load_dataset(\"ehovy/race\", \"middle\")\n",
    "\n",
    "print(dataset)\n",
    "\n",
    "test_dataset = []\n",
    "for example in dataset['test']:\n",
    "    prompt = f'{example['article']}'\n",
    "    options = [f'{example['question']}\\n\\n{option}' for option in example['options']]\n",
    "    label = options[ord(example['answer']) - ord('A')]\n",
    "    test_dataset.append((prompt, options, label))\n",
    "\n",
    "print(test_dataset[0])\n"
   ]
  },
  {
   "cell_type": "markdown",
   "metadata": {},
   "source": [
    "## Test"
   ]
  },
  {
   "cell_type": "code",
   "execution_count": null,
   "metadata": {},
   "outputs": [
    {
     "name": "stdout",
     "output_type": "stream",
     "text": [
      "Validation Accuracy: 60.58%\n"
     ]
    }
   ],
   "source": [
    "def evaluate():\n",
    "    correct = 0\n",
    "    \n",
    "    for prompt, options, label in test_dataset:\n",
    "        result = classifier(prompt, options)\n",
    "        pred = result['labels'][np.argmax(result['scores'])]\n",
    "        if pred == label:\n",
    "            correct += 1\n",
    "\n",
    "    accuracy = correct / len(test_dataset)\n",
    "    return accuracy\n",
    "\n",
    "# 評估 validation 集\n",
    "validation_accuracy = evaluate()\n",
    "print(f\"Validation Accuracy: {validation_accuracy:.2%}\")\n"
   ]
  },
  {
   "cell_type": "markdown",
   "metadata": {},
   "source": [
    "3452MiB"
   ]
  }
 ],
 "metadata": {
  "kernelspec": {
   "display_name": "Python 3 (ipykernel)",
   "language": "python",
   "name": "python3"
  },
  "language_info": {
   "codemirror_mode": {
    "name": "ipython",
    "version": 3
   },
   "file_extension": ".py",
   "mimetype": "text/x-python",
   "name": "python",
   "nbconvert_exporter": "python",
   "pygments_lexer": "ipython3",
   "version": "3.12.7"
  }
 },
 "nbformat": 4,
 "nbformat_minor": 2
}
